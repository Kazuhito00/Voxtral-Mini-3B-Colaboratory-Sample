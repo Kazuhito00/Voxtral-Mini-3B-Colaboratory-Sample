{
  "nbformat": 4,
  "nbformat_minor": 0,
  "metadata": {
    "colab": {
      "provenance": [],
      "machine_shape": "hm",
      "gpuType": "T4"
    },
    "kernelspec": {
      "name": "python3",
      "display_name": "Python 3"
    },
    "language_info": {
      "name": "python"
    },
    "accelerator": "GPU"
  },
  "cells": [
    {
      "cell_type": "markdown",
      "source": [
        "# パッケージインストール"
      ],
      "metadata": {
        "id": "C-wd0IyvqyIh"
      }
    },
    {
      "cell_type": "code",
      "source": [
        "!pip install -q -U \"vllm[audio]\"\n",
        "!pip install -q git+https://github.com/huggingface/transformers\n",
        "!pip install -q --upgrade \"mistral-common[audio]\""
      ],
      "metadata": {
        "id": "eXYzPKp8j6Fi"
      },
      "execution_count": null,
      "outputs": []
    },
    {
      "cell_type": "markdown",
      "source": [
        "# モデル読み込み"
      ],
      "metadata": {
        "id": "doQ6oSGsq7HM"
      }
    },
    {
      "cell_type": "code",
      "source": [
        "import torch\n",
        "from transformers import VoxtralForConditionalGeneration, AutoProcessor\n",
        "\n",
        "device = \"cuda\"\n",
        "repo_id = \"mistralai/Voxtral-Mini-3B-2507\"\n",
        "\n",
        "processor = AutoProcessor.from_pretrained(repo_id)\n",
        "model = VoxtralForConditionalGeneration.from_pretrained(\n",
        "    repo_id,\n",
        "    torch_dtype=torch.bfloat16,\n",
        "    device_map=device\n",
        ")"
      ],
      "metadata": {
        "id": "5i_eXlcmq6T1"
      },
      "execution_count": null,
      "outputs": []
    },
    {
      "cell_type": "markdown",
      "source": [
        "# 単一音声 + テキスト"
      ],
      "metadata": {
        "id": "8Fhz49L62Vbo"
      }
    },
    {
      "cell_type": "code",
      "source": [
        "!wget https://huggingface.co/datasets/hf-internal-testing/dummy-audio-samples/resolve/main/winning_call.mp3 -q"
      ],
      "metadata": {
        "id": "Ons8UNgP2Y8R"
      },
      "execution_count": 3,
      "outputs": []
    },
    {
      "cell_type": "code",
      "source": [
        "%%time\n",
        "# 入力準備\n",
        "conversation = [\n",
        "    {\n",
        "        \"role\": \"user\",\n",
        "        \"content\": [\n",
        "            {\n",
        "                \"type\": \"audio\",\n",
        "                \"path\": \"winning_call.mp3\",  # 25秒のmp3\n",
        "            },\n",
        "            {\"type\": \"text\", \"text\": \"どのスポーツが言及されていますか？\"},\n",
        "        ],\n",
        "    }\n",
        "]\n",
        "\n",
        "inputs = processor.apply_chat_template(conversation)\n",
        "inputs = inputs.to(device, dtype=torch.bfloat16)"
      ],
      "metadata": {
        "colab": {
          "base_uri": "https://localhost:8080/"
        },
        "outputId": "07e869cb-8f23-4c21-86fa-096b4c12fce3",
        "id": "YEcTTKQV2Vbp"
      },
      "execution_count": 4,
      "outputs": [
        {
          "output_type": "stream",
          "name": "stdout",
          "text": [
            "CPU times: user 689 ms, sys: 29.6 ms, total: 719 ms\n",
            "Wall time: 684 ms\n"
          ]
        }
      ]
    },
    {
      "cell_type": "code",
      "source": [
        "%%time\n",
        "# 推論\n",
        "outputs = model.generate(**inputs, max_new_tokens=500)\n",
        "decoded_outputs = processor.batch_decode(outputs[:, inputs.input_ids.shape[1]:], skip_special_tokens=True)"
      ],
      "metadata": {
        "colab": {
          "base_uri": "https://localhost:8080/"
        },
        "id": "20mPHrGW2iwI",
        "outputId": "33de96eb-8c2a-4306-9189-b0d966e22590"
      },
      "execution_count": 5,
      "outputs": [
        {
          "output_type": "stream",
          "name": "stdout",
          "text": [
            "CPU times: user 3.09 s, sys: 436 ms, total: 3.52 s\n",
            "Wall time: 3.49 s\n"
          ]
        }
      ]
    },
    {
      "cell_type": "code",
      "source": [
        "print(decoded_outputs[0])"
      ],
      "metadata": {
        "colab": {
          "base_uri": "https://localhost:8080/"
        },
        "id": "y-YEvNm92pTG",
        "outputId": "f5fea3f8-6972-49f4-e0b8-c1cc00b4bb54"
      },
      "execution_count": 6,
      "outputs": [
        {
          "output_type": "stream",
          "name": "stdout",
          "text": [
            "この音声は野球（Baseball）についての試合の様子を伝えています。\n"
          ]
        }
      ]
    },
    {
      "cell_type": "markdown",
      "source": [
        "# 複数音声 + テキスト"
      ],
      "metadata": {
        "id": "ie8sADWn1iYt"
      }
    },
    {
      "cell_type": "code",
      "source": [
        "!wget https://huggingface.co/datasets/hf-internal-testing/dummy-audio-samples/resolve/main/mary_had_lamb.mp3 -q"
      ],
      "metadata": {
        "id": "_W4rsWfk3P-l"
      },
      "execution_count": 7,
      "outputs": []
    },
    {
      "cell_type": "code",
      "source": [
        "%%time\n",
        "# 入力準備\n",
        "conversation = [\n",
        "    {\n",
        "        \"role\": \"user\",\n",
        "        \"content\": [\n",
        "            {\n",
        "                \"type\": \"audio\",\n",
        "                \"path\": \"mary_had_lamb.mp3\",  # 15秒のmp3\n",
        "            },\n",
        "            {\n",
        "                \"type\": \"audio\",\n",
        "                \"path\": \"winning_call.mp3\",  # 25秒のmp3\n",
        "            },\n",
        "            {\"type\": \"text\", \"text\": \"どのスポーツと、どの童謡が言及されていますか？」\"},\n",
        "        ],\n",
        "    }\n",
        "]\n",
        "\n",
        "inputs = processor.apply_chat_template(conversation)\n",
        "inputs = inputs.to(device, dtype=torch.bfloat16)"
      ],
      "metadata": {
        "colab": {
          "base_uri": "https://localhost:8080/"
        },
        "id": "tAOHIW8A1hoW",
        "outputId": "597e28e1-9928-4dbe-fd95-b1acf68edf6f"
      },
      "execution_count": 8,
      "outputs": [
        {
          "output_type": "stream",
          "name": "stdout",
          "text": [
            "CPU times: user 829 ms, sys: 16.2 ms, total: 845 ms\n",
            "Wall time: 787 ms\n"
          ]
        }
      ]
    },
    {
      "cell_type": "code",
      "source": [
        "%%time\n",
        "# 推論\n",
        "outputs = model.generate(**inputs, max_new_tokens=500)\n",
        "decoded_outputs = processor.batch_decode(outputs[:, inputs.input_ids.shape[1]:], skip_special_tokens=True)"
      ],
      "metadata": {
        "colab": {
          "base_uri": "https://localhost:8080/"
        },
        "id": "VVxlBxtU4du2",
        "outputId": "dfbc7e8c-9431-4ce8-ec71-79ffa9ba437b"
      },
      "execution_count": 9,
      "outputs": [
        {
          "output_type": "stream",
          "name": "stdout",
          "text": [
            "CPU times: user 5.18 s, sys: 423 ms, total: 5.6 s\n",
            "Wall time: 5.55 s\n"
          ]
        }
      ]
    },
    {
      "cell_type": "code",
      "source": [
        "print(decoded_outputs[0])"
      ],
      "metadata": {
        "colab": {
          "base_uri": "https://localhost:8080/"
        },
        "id": "bIFhcW5Q4goD",
        "outputId": "7ef51db7-2d4b-4b0b-ea10-d1438e66d7fc"
      },
      "execution_count": 10,
      "outputs": [
        {
          "output_type": "stream",
          "name": "stdout",
          "text": [
            "この音声は野球と童謡の「Mary Had a Little Lamb」が言及されています。\n"
          ]
        }
      ]
    },
    {
      "cell_type": "markdown",
      "source": [
        "# 書き起こし"
      ],
      "metadata": {
        "id": "LtFvs4Ug1eEh"
      }
    },
    {
      "cell_type": "code",
      "source": [
        "!wget https://github.com/Kazuhito00/Voxtral-Mini-3B-Colaboratory-Sample/raw/refs/heads/main/maou_14_shining_star.mp3 -q"
      ],
      "metadata": {
        "id": "7xtTnFvxcJ55"
      },
      "execution_count": 11,
      "outputs": []
    },
    {
      "cell_type": "code",
      "source": [
        "%%time\n",
        "# 入力準備\n",
        "inputs = processor.apply_transcrition_request(\n",
        "    language=\"ja\",\n",
        "    audio=\"maou_14_shining_star.mp3\",  # 4分36秒の曲\n",
        "    model_id=repo_id\n",
        ")\n",
        "inputs = inputs.to(device, dtype=torch.bfloat16)"
      ],
      "metadata": {
        "colab": {
          "base_uri": "https://localhost:8080/"
        },
        "id": "7tr-sKT2xkyM",
        "outputId": "7a591f40-1587-4860-de7d-09d307d92859"
      },
      "execution_count": 12,
      "outputs": [
        {
          "output_type": "stream",
          "name": "stdout",
          "text": [
            "CPU times: user 5.86 s, sys: 141 ms, total: 6 s\n",
            "Wall time: 5.75 s\n"
          ]
        }
      ]
    },
    {
      "cell_type": "code",
      "source": [
        "%%time\n",
        "# 推論\n",
        "outputs = model.generate(**inputs, max_new_tokens=500)\n",
        "decoded_outputs = processor.batch_decode(outputs[:, inputs.input_ids.shape[1]:], skip_special_tokens=True)"
      ],
      "metadata": {
        "colab": {
          "base_uri": "https://localhost:8080/"
        },
        "id": "3UpZrGExx9hn",
        "outputId": "8e8016e8-3b34-40f2-c2a3-65d0e1c2862b"
      },
      "execution_count": 15,
      "outputs": [
        {
          "output_type": "stream",
          "name": "stdout",
          "text": [
            "CPU times: user 1min 20s, sys: 4.24 s, total: 1min 24s\n",
            "Wall time: 1min 24s\n"
          ]
        }
      ]
    },
    {
      "cell_type": "code",
      "source": [
        "import textwrap\n",
        "\n",
        "print(textwrap.fill(decoded_outputs[0], width=50))"
      ],
      "metadata": {
        "colab": {
          "base_uri": "https://localhost:8080/"
        },
        "id": "IIiV-CT5x--4",
        "outputId": "65fc52ce-0fa0-4141-924b-6f87154a83e8"
      },
      "execution_count": 16,
      "outputs": [
        {
          "output_type": "stream",
          "name": "stdout",
          "text": [
            "ただ風に揺れて、何も考えずに、ただ雲を眺めて過ごすのもいいよね。誰しも何かしらの使命を持っている。た\n",
            "だそのだけのことを悩むのはもうやめさ。さざなみの音に癒されて行く。奇跡を運ぶ風の目、時を閉じ込めて。\n",
            "シャイニングスタを踏めば、夢に眠る魔法が手のひらに流れそそぐ新しい世界へ。I'll a dream\n",
            "for my sensation、果てしなき道の向こうで、まぶたの裏に映る一滴の光、ときめきを感じて\n",
            "。あなたが触れるすべて、幸せであるように、今生きる喜びを忘れてしまわないように。月の光を隠す雲は揺れ\n",
            "、自由の翼は今も大空を駆ける。シャイニングスタを踏めば、無限のイマジネーション、魔法が使われるような\n",
            "世界が広がる。I'll a dream for my sensation、今もフリッツの思いよ、切な\n",
            "さやときめきが心の真ん中で、熱いメロディーになる。シャイニングスタを踏めば、無限のイマジネーション、\n",
            "魔法が使われるような世界が広がる。I'll a dream for my sensation、今もフ\n",
            "リッツの思いよ、切なさやときめきが輝き始める。シャイニングスタを踏めば、夢に眠る魔法が手のひらに流れ\n",
            "そそぐ新しい世界へ。I'll a dream for my sensation、果てしなき道の向こう\n",
            "で、まぶたの裏に映る一滴の光、ときめきを感じて。ララララララララララララララララララララララララララ\n",
            "ララララララララララララララララララララララララララララララララララララララララララララララララララ\n",
            "ラララ\n"
          ]
        }
      ]
    }
  ]
}