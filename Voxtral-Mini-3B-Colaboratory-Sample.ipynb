{
  "nbformat": 4,
  "nbformat_minor": 0,
  "metadata": {
    "colab": {
      "provenance": [],
      "machine_shape": "hm",
      "gpuType": "T4"
    },
    "kernelspec": {
      "name": "python3",
      "display_name": "Python 3"
    },
    "language_info": {
      "name": "python"
    },
    "accelerator": "GPU"
  },
  "cells": [
    {
      "cell_type": "markdown",
      "source": [
        "# パッケージインストール"
      ],
      "metadata": {
        "id": "C-wd0IyvqyIh"
      }
    },
    {
      "cell_type": "code",
      "source": [
        "!pip install -q -U \"vllm[audio]\"\n",
        "!pip install -q git+https://github.com/huggingface/transformers\n",
        "!pip install -q --upgrade \"mistral-common[audio]\""
      ],
      "metadata": {
        "id": "eXYzPKp8j6Fi"
      },
      "execution_count": null,
      "outputs": []
    },
    {
      "cell_type": "markdown",
      "source": [
        "# モデル読み込み"
      ],
      "metadata": {
        "id": "doQ6oSGsq7HM"
      }
    },
    {
      "cell_type": "code",
      "source": [
        "import torch\n",
        "from transformers import VoxtralForConditionalGeneration, AutoProcessor\n",
        "\n",
        "device = \"cuda\"\n",
        "repo_id = \"mistralai/Voxtral-Mini-3B-2507\"\n",
        "\n",
        "processor = AutoProcessor.from_pretrained(repo_id)\n",
        "model = VoxtralForConditionalGeneration.from_pretrained(\n",
        "    repo_id,\n",
        "    torch_dtype=torch.bfloat16,\n",
        "    device_map=device\n",
        ")"
      ],
      "metadata": {
        "id": "5i_eXlcmq6T1"
      },
      "execution_count": null,
      "outputs": []
    },
    {
      "cell_type": "markdown",
      "source": [
        "# 単一音声 + テキスト"
      ],
      "metadata": {
        "id": "8Fhz49L62Vbo"
      }
    },
    {
      "cell_type": "code",
      "source": [
        "!wget https://huggingface.co/datasets/hf-internal-testing/dummy-audio-samples/resolve/main/winning_call.mp3 -q"
      ],
      "metadata": {
        "id": "Ons8UNgP2Y8R"
      },
      "execution_count": 3,
      "outputs": []
    },
    {
      "cell_type": "code",
      "source": [
        "%%time\n",
        "# 入力準備\n",
        "conversation = [\n",
        "    {\n",
        "        \"role\": \"user\",\n",
        "        \"content\": [\n",
        "            {\n",
        "                \"type\": \"audio\",\n",
        "                \"path\": \"winning_call.mp3\",  # 25秒のmp3\n",
        "            },\n",
        "            {\"type\": \"text\", \"text\": \"どのスポーツが言及されていますか？\"},\n",
        "        ],\n",
        "    }\n",
        "]\n",
        "\n",
        "inputs = processor.apply_chat_template(conversation)\n",
        "inputs = inputs.to(device, dtype=torch.bfloat16)"
      ],
      "metadata": {
        "colab": {
          "base_uri": "https://localhost:8080/"
        },
        "outputId": "255c176f-075b-4061-88be-62876e721809",
        "id": "YEcTTKQV2Vbp"
      },
      "execution_count": 4,
      "outputs": [
        {
          "output_type": "stream",
          "name": "stdout",
          "text": [
            "CPU times: user 636 ms, sys: 28 ms, total: 664 ms\n",
            "Wall time: 659 ms\n"
          ]
        }
      ]
    },
    {
      "cell_type": "code",
      "source": [
        "%%time\n",
        "# 推論\n",
        "outputs = model.generate(**inputs, max_new_tokens=500)\n",
        "decoded_outputs = processor.batch_decode(outputs[:, inputs.input_ids.shape[1]:], skip_special_tokens=True)"
      ],
      "metadata": {
        "colab": {
          "base_uri": "https://localhost:8080/"
        },
        "id": "20mPHrGW2iwI",
        "outputId": "5e642477-6953-465e-c53c-91238125959c"
      },
      "execution_count": 5,
      "outputs": [
        {
          "output_type": "stream",
          "name": "stdout",
          "text": [
            "CPU times: user 2.95 s, sys: 423 ms, total: 3.37 s\n",
            "Wall time: 3.34 s\n"
          ]
        }
      ]
    },
    {
      "cell_type": "code",
      "source": [
        "print(decoded_outputs[0])"
      ],
      "metadata": {
        "colab": {
          "base_uri": "https://localhost:8080/"
        },
        "id": "y-YEvNm92pTG",
        "outputId": "8430d744-7e40-41fc-a3fb-ec35ea18f1c7"
      },
      "execution_count": 6,
      "outputs": [
        {
          "output_type": "stream",
          "name": "stdout",
          "text": [
            "この音声は野球（Baseball）についての試合の様子を伝えています。\n"
          ]
        }
      ]
    },
    {
      "cell_type": "markdown",
      "source": [
        "# 複数音声 + テキスト"
      ],
      "metadata": {
        "id": "ie8sADWn1iYt"
      }
    },
    {
      "cell_type": "code",
      "source": [
        "!wget https://huggingface.co/datasets/hf-internal-testing/dummy-audio-samples/resolve/main/mary_had_lamb.mp3 -q"
      ],
      "metadata": {
        "id": "_W4rsWfk3P-l"
      },
      "execution_count": 7,
      "outputs": []
    },
    {
      "cell_type": "code",
      "source": [
        "%%time\n",
        "# 入力準備\n",
        "conversation = [\n",
        "    {\n",
        "        \"role\": \"user\",\n",
        "        \"content\": [\n",
        "            {\n",
        "                \"type\": \"audio\",\n",
        "                \"path\": \"mary_had_lamb.mp3\",  # 15秒のmp3\n",
        "            },\n",
        "            {\n",
        "                \"type\": \"audio\",\n",
        "                \"path\": \"winning_call.mp3\",  # 25秒のmp3\n",
        "            },\n",
        "            {\"type\": \"text\", \"text\": \"どのスポーツと、どの童謡が言及されていますか？」\"},\n",
        "        ],\n",
        "    }\n",
        "]\n",
        "\n",
        "inputs = processor.apply_chat_template(conversation)\n",
        "inputs = inputs.to(device, dtype=torch.bfloat16)"
      ],
      "metadata": {
        "colab": {
          "base_uri": "https://localhost:8080/"
        },
        "id": "tAOHIW8A1hoW",
        "outputId": "6042b453-9a5b-46aa-ee1a-8f86285998fc"
      },
      "execution_count": 8,
      "outputs": [
        {
          "output_type": "stream",
          "name": "stdout",
          "text": [
            "CPU times: user 764 ms, sys: 21.5 ms, total: 785 ms\n",
            "Wall time: 740 ms\n"
          ]
        }
      ]
    },
    {
      "cell_type": "code",
      "source": [
        "%%time\n",
        "# 推論\n",
        "outputs = model.generate(**inputs, max_new_tokens=500)\n",
        "decoded_outputs = processor.batch_decode(outputs[:, inputs.input_ids.shape[1]:], skip_special_tokens=True)"
      ],
      "metadata": {
        "colab": {
          "base_uri": "https://localhost:8080/"
        },
        "id": "VVxlBxtU4du2",
        "outputId": "0746bbbb-02d0-4413-bb7f-c19a2e1f5cc9"
      },
      "execution_count": 9,
      "outputs": [
        {
          "output_type": "stream",
          "name": "stdout",
          "text": [
            "CPU times: user 4.88 s, sys: 441 ms, total: 5.32 s\n",
            "Wall time: 5.27 s\n"
          ]
        }
      ]
    },
    {
      "cell_type": "code",
      "source": [
        "print(decoded_outputs[0])"
      ],
      "metadata": {
        "colab": {
          "base_uri": "https://localhost:8080/"
        },
        "id": "bIFhcW5Q4goD",
        "outputId": "f8dcfe8a-321b-4885-a076-c95562a7cac4"
      },
      "execution_count": 10,
      "outputs": [
        {
          "output_type": "stream",
          "name": "stdout",
          "text": [
            "この音声は野球と童謡の「Mary Had a Little Lamb」が言及されています。\n"
          ]
        }
      ]
    },
    {
      "cell_type": "markdown",
      "source": [
        "# 書き起こし"
      ],
      "metadata": {
        "id": "LtFvs4Ug1eEh"
      }
    },
    {
      "cell_type": "code",
      "source": [
        "%%time\n",
        "# 入力準備\n",
        "inputs = processor.apply_transcrition_request(\n",
        "    language=\"ja\",\n",
        "    audio=\"maou_14_shining_star.mp3\",  # 4分36秒の曲\n",
        "    model_id=repo_id\n",
        ")\n",
        "inputs = inputs.to(device, dtype=torch.bfloat16)"
      ],
      "metadata": {
        "colab": {
          "base_uri": "https://localhost:8080/"
        },
        "id": "7tr-sKT2xkyM",
        "outputId": "c1db6661-010a-4e40-ff49-e168cae4b0b5"
      },
      "execution_count": 11,
      "outputs": [
        {
          "output_type": "stream",
          "name": "stdout",
          "text": [
            "CPU times: user 6.14 s, sys: 137 ms, total: 6.28 s\n",
            "Wall time: 5.97 s\n"
          ]
        }
      ]
    },
    {
      "cell_type": "code",
      "source": [
        "%%time\n",
        "# 推論\n",
        "outputs = model.generate(**inputs, max_new_tokens=500)\n",
        "decoded_outputs = processor.batch_decode(outputs[:, inputs.input_ids.shape[1]:], skip_special_tokens=True)"
      ],
      "metadata": {
        "colab": {
          "base_uri": "https://localhost:8080/"
        },
        "id": "3UpZrGExx9hn",
        "outputId": "a9557be7-1edf-4613-ea25-8816eff5dbcf"
      },
      "execution_count": 12,
      "outputs": [
        {
          "output_type": "stream",
          "name": "stdout",
          "text": [
            "CPU times: user 1min 5s, sys: 3.97 s, total: 1min 9s\n",
            "Wall time: 1min 9s\n"
          ]
        }
      ]
    },
    {
      "cell_type": "code",
      "source": [
        "import textwrap\n",
        "\n",
        "print(textwrap.fill(decoded_outputs[0], width=50))"
      ],
      "metadata": {
        "colab": {
          "base_uri": "https://localhost:8080/"
        },
        "id": "IIiV-CT5x--4",
        "outputId": "6dd75de5-a1ab-4d72-c892-1f05b85c08c6"
      },
      "execution_count": 13,
      "outputs": [
        {
          "output_type": "stream",
          "name": "stdout",
          "text": [
            "ただ風に揺れて、何も考えずに、ただ雲を眺めて過ごすのもいいよね。誰しも何かしらの使命を持っている。た\n",
            "だそのだけのことを悩むのはもうやめさ。さざなみの音に癒されて行く。奇跡を運ぶ風の目、時を閉じ込めて。\n",
            "シャイニングスタを通れば、夢に眠る魔法が手のひらに流れそそぐ新しい世界へ。I'll a dream\n",
            "for my sensation、果てしなき道の向こうで、目鼻の裏に映る一滴の光、ときめきを感じて。\n",
            "あなたが触れるすべて、幸せであるように、今生きる喜びを忘れてしまわないように。月の光を隠す雲は揺れ、\n",
            "自由の翼は今も大空を駆ける。シャイニングスタを通れば、無限のイマジネーション、魔法が使われるような世\n",
            "界が広がる。I'll a dream for my sensation、今もフリッツの思いよ、切実さ\n",
            "やときめきが心の真ん中で熱いメロディーになる。シャイニングスタを通れば、無限のイマジネーション、魔法\n",
            "が使われるような世界が広がる。I'll a dream for my sensation、今もフリッ\n",
            "ツの思いよ、切実さやときめきが輝き始める。シャイニングスタを通れば、夢に眠る魔法が手のひらに流れそそ\n",
            "ぐ新しい世界へ。I'll a dream for my\n",
            "sensation、果てしなき道の向こうで、目鼻の裏に映る一滴の光、ときめきを感じて。\n"
          ]
        }
      ]
    }
  ]
}